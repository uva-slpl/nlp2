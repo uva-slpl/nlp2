{
 "cells": [
  {
   "cell_type": "code",
   "execution_count": 1,
   "metadata": {
    "collapsed": true
   },
   "outputs": [],
   "source": [
    "import numpy as np\n",
    "import matplotlib.pyplot as plt\n",
    "%matplotlib inline"
   ]
  },
  {
   "cell_type": "markdown",
   "metadata": {},
   "source": [
    "# Dirichlet prior\n",
    "\n",
    "The support of the [Dirichlet distribution](https://en.wikipedia.org/wiki/Dirichlet_distribution) is the set of $K$-dimensional vectors $\\theta$ whose entries are real numbers in the interval $(0,1)$, furthermore, $||\\theta||_1 = 1$ (the sum of the coordinates is 1). These vectors can be viewed as the probabilities of a $K$-way categorical event.\n",
    "\n",
    "The density is parameterised by $K$ strictly positive real values called *concentration parameters*.\n",
    "\n",
    "You can also check [this notebook](http://blog.bogatron.net/blog/2014/02/02/visualizing-dirichlet-distributions/) on how to visualise the density."
   ]
  },
  {
   "cell_type": "markdown",
   "metadata": {},
   "source": [
    "We typically use a *symmetric* Dirichlet, that is, we set all $K$ concentration parameters to the same value.\n",
    "In this notebook, we will be sampling from a Dirichlet and plotting the categorical distributions parameterised by those samples."
   ]
  },
  {
   "cell_type": "code",
   "execution_count": 2,
   "metadata": {
    "collapsed": true
   },
   "outputs": [],
   "source": [
    "def plot_dirichlet_samples(alpha=0.01, f_types=10, nb_samples=5):\n",
    "    f_support = np.arange(1, f_types + 1)\n",
    "    alphas = np.full(f_types, alpha)\n",
    "    cats = np.random.dirichlet(alphas, size=nb_samples)\n",
    "    for i, cat in enumerate(cats):\n",
    "        plt.bar(f_support + (0.1 * i), cat, width=0.1, tick_label=f_support)"
   ]
  },
  {
   "cell_type": "markdown",
   "metadata": {},
   "source": [
    "Note that as we reduce $\\alpha$, the sampled vectors look sparser (each color corresponds to a sample). If we use such a Dirichlet as a prior on the parameters of Categorical observations, we a priori expect these categoricals to distribute mass over very few outcomes."
   ]
  },
  {
   "cell_type": "code",
   "execution_count": 3,
   "metadata": {},
   "outputs": [
    {
     "data": {
      "image/png": "[encoded data removed]",
      "text/plain": [
       "<matplotlib.figure.Figure at 0x106346a90>"
      ]
     },
     "metadata": {},
     "output_type": "display_data"
    }
   ],
   "source": [
    "plot_dirichlet_samples(alpha=0.01, nb_samples=1)"
   ]
  },
  {
   "cell_type": "code",
   "execution_count": 4,
   "metadata": {},
   "outputs": [
    {
     "data": {
      "image/png": "[encoded data removed]",
      "text/plain": [
       "<matplotlib.figure.Figure at 0x106376278>"
      ]
     },
     "metadata": {},
     "output_type": "display_data"
    }
   ],
   "source": [
    "plot_dirichlet_samples(alpha=10, nb_samples=1)"
   ]
  },
  {
   "cell_type": "code",
   "execution_count": 5,
   "metadata": {},
   "outputs": [
    {
     "data": {
      "image/png": "[encoded data removed]",
      "text/plain": [
       "<matplotlib.figure.Figure at 0x1063d4390>"
      ]
     },
     "metadata": {},
     "output_type": "display_data"
    }
   ],
   "source": [
    "plot_dirichlet_samples(alpha=0.01, nb_samples=5)"
   ]
  },
  {
   "cell_type": "code",
   "execution_count": 6,
   "metadata": {},
   "outputs": [
    {
     "data": {
      "image/png": "[encoded data removed]",
      "text/plain": [
       "<matplotlib.figure.Figure at 0x1064ab208>"
      ]
     },
     "metadata": {},
     "output_type": "display_data"
    }
   ],
   "source": [
    "plot_dirichlet_samples(alpha=1, nb_samples=10, f_types=20)"
   ]
  },
  {
   "cell_type": "code",
   "execution_count": 7,
   "metadata": {},
   "outputs": [
    {
     "data": {
      "image/png": "[encoded data removed]",
      "text/plain": [
       "<matplotlib.figure.Figure at 0x1064ba828>"
      ]
     },
     "metadata": {},
     "output_type": "display_data"
    }
   ],
   "source": [
    "plot_dirichlet_samples(alpha=0.01, nb_samples=10, f_types=20)"
   ]
  },
  {
   "cell_type": "code",
   "execution_count": 10,
   "metadata": {
    "collapsed": true
   },
   "outputs": [],
   "source": [
    "def softmax(logits):\n",
    "    log_normaliser = np.logaddexp.reduce(logits, axis=-1, keepdims=True)\n",
    "    return np.exp(logits - log_normaliser)"
   ]
  },
  {
   "cell_type": "code",
   "execution_count": 21,
   "metadata": {},
   "outputs": [
    {
     "data": {
      "text/plain": [
       "array([[ 0.42873962,  0.1775641 ,  0.0726917 ,  0.09099599,  0.23000858],\n",
       "       [ 0.16661878,  0.10232741,  0.11472199,  0.32707348,  0.28925834],\n",
       "       [ 0.29020615,  0.21114366,  0.0776771 ,  0.17570488,  0.24526821],\n",
       "       [ 0.27007349,  0.25610594,  0.12320581,  0.11439127,  0.23622349],\n",
       "       [ 0.11125371,  0.2759845 ,  0.05723778,  0.13169113,  0.42383289],\n",
       "       [ 0.04353671,  0.44205487,  0.18226358,  0.22137651,  0.11076833],\n",
       "       [ 0.15407979,  0.03160647,  0.59572651,  0.0671539 ,  0.15143333],\n",
       "       [ 0.08160807,  0.46483216,  0.34001648,  0.07125876,  0.04228453],\n",
       "       [ 0.06829952,  0.07460023,  0.0974218 ,  0.67653588,  0.08314257],\n",
       "       [ 0.12280634,  0.25073382,  0.14495177,  0.40546403,  0.07604404]])"
      ]
     },
     "execution_count": 21,
     "metadata": {},
     "output_type": "execute_result"
    }
   ],
   "source": [
    "softmax(np.random.normal(size=[10, 5]))"
   ]
  },
  {
   "cell_type": "code",
   "execution_count": 22,
   "metadata": {
    "collapsed": true
   },
   "outputs": [],
   "source": [
    "from scipy import special"
   ]
  },
  {
   "cell_type": "code",
   "execution_count": 63,
   "metadata": {
    "collapsed": true
   },
   "outputs": [],
   "source": [
    "def make_logistic_normal(alpha, version='kl'):\n",
    "    \"\"\"\n",
    "    version:\n",
    "        'kl' see https://en.wikipedia.org/wiki/Logit-normal_distribution#Relationship_with_the_Dirichlet_distribution\n",
    "        'laplace' see Equation (6) https://arxiv.org/pdf/1703.01488.pdf\n",
    "    \"\"\"    \n",
    "    if version == 'kl':        \n",
    "        alpha0 = np.sum(alpha, axis=-1, keepdims=True)\n",
    "        loc = special.digamma(alpha) - special.digamma(alpha0)\n",
    "        scale = special.polygamma(1, alpha) + special.polygamma(1, alpha0)\n",
    "    elif version == 'laplace':\n",
    "        alpha0 = np.sum(alpha, axis=-1, keepdims=True)        \n",
    "        loc = np.log(alpha) - np.mean(np.log(alpha), axis=-1)\n",
    "        K = np.shape(alpha)[-1]\n",
    "        scale = 1. / alpha * (1. - 2. / K) + 1. / (K * K) * np.sum(1. / alpha, axis=-1)\n",
    "    else:\n",
    "        raise ValueError('I do not know this approximation: %s' % version)\n",
    "    return loc, scale"
   ]
  },
  {
   "cell_type": "code",
   "execution_count": 90,
   "metadata": {},
   "outputs": [
    {
     "data": {
      "text/plain": [
       "(array([-8.46024491, -8.46024491, -8.46024491, -8.46024491, -8.46024491]),\n",
       " array([ 106.36810135,  106.36810135,  106.36810135,  106.36810135,\n",
       "         106.36810135]))"
      ]
     },
     "execution_count": 90,
     "metadata": {},
     "output_type": "execute_result"
    }
   ],
   "source": [
    "make_logistic_normal(np.full(5, 0.1), version='kl')"
   ]
  },
  {
   "cell_type": "code",
   "execution_count": 91,
   "metadata": {},
   "outputs": [
    {
     "data": {
      "text/plain": [
       "(array([ 0.,  0.,  0.,  0.,  0.]), array([ 8.,  8.,  8.,  8.,  8.]))"
      ]
     },
     "execution_count": 91,
     "metadata": {},
     "output_type": "execute_result"
    }
   ],
   "source": [
    "make_logistic_normal(np.full(5, 0.1), version='laplace')"
   ]
  },
  {
   "cell_type": "code",
   "execution_count": 92,
   "metadata": {},
   "outputs": [],
   "source": [
    "loc, scale = make_logistic_normal(np.full(5, 0.1), version='kl')"
   ]
  },
  {
   "cell_type": "code",
   "execution_count": 93,
   "metadata": {},
   "outputs": [
    {
     "data": {
      "text/plain": [
       "array([-8.46024491, -8.46024491, -8.46024491, -8.46024491, -8.46024491])"
      ]
     },
     "execution_count": 93,
     "metadata": {},
     "output_type": "execute_result"
    }
   ],
   "source": [
    "loc"
   ]
  },
  {
   "cell_type": "code",
   "execution_count": 94,
   "metadata": {},
   "outputs": [
    {
     "data": {
      "text/plain": [
       "array([ 106.36810135,  106.36810135,  106.36810135,  106.36810135,\n",
       "        106.36810135])"
      ]
     },
     "execution_count": 94,
     "metadata": {},
     "output_type": "execute_result"
    }
   ],
   "source": [
    "scale"
   ]
  },
  {
   "cell_type": "code",
   "execution_count": 95,
   "metadata": {},
   "outputs": [
    {
     "data": {
      "text/plain": [
       "array([[  1.00000000e+000,   1.76733778e-022,   2.67164067e-023,\n",
       "          2.13542073e-107,   1.54750963e-084],\n",
       "       [  1.00000000e+000,   2.32815074e-027,   8.56651478e-113,\n",
       "          7.56598432e-071,   8.02167202e-090],\n",
       "       [  6.70960386e-047,   6.38504760e-041,   2.19807520e-044,\n",
       "          1.00000000e+000,   6.84508779e-112],\n",
       "       [  1.77177355e-096,   2.70836956e-010,   1.37674679e-100,\n",
       "          3.58640266e-086,   1.00000000e+000],\n",
       "       [  8.68943546e-083,   1.00000000e+000,   2.86823244e-067,\n",
       "          4.85163782e-079,   1.66326069e-093],\n",
       "       [  7.07696986e-007,   8.13979259e-031,   1.81646665e-049,\n",
       "          9.99999292e-001,   3.00139300e-067],\n",
       "       [  1.95976252e-049,   1.32119023e-066,   1.00000000e+000,\n",
       "          8.65840609e-017,   2.14627528e-025],\n",
       "       [  3.67278246e-062,   3.55135068e-080,   1.00000000e+000,\n",
       "          3.43509280e-021,   1.53035032e-021],\n",
       "       [  1.00000000e+000,   3.79703606e-090,   3.88094269e-061,\n",
       "          5.79984069e-022,   2.79829418e-017],\n",
       "       [  1.00000000e+000,   6.24966177e-065,   4.20081751e-098,\n",
       "          2.91887807e-060,   7.11241416e-023]])"
      ]
     },
     "execution_count": 95,
     "metadata": {},
     "output_type": "execute_result"
    }
   ],
   "source": [
    "softmax(np.random.normal(loc, scale, size=[10, 5]))"
   ]
  },
  {
   "cell_type": "code",
   "execution_count": 96,
   "metadata": {
    "collapsed": true
   },
   "outputs": [],
   "source": [
    "def plot_approx_dir_samples(alpha=0.01, f_types=10, nb_samples=5, approx_type='kl'):\n",
    "    f_support = np.arange(1, f_types + 1)\n",
    "    alphas = np.full(f_types, alpha)\n",
    "    loc, scale = make_logistic_normal(alphas, version=approx_type)\n",
    "    cats = softmax(np.random.normal(loc, scale, size=[nb_samples, f_types]))\n",
    "    #cats = np.random.dirichlet(alphas, size=nb_samples)\n",
    "    for i, cat in enumerate(cats):\n",
    "        plt.bar(f_support + (0.1 * i), cat, width=0.1, tick_label=f_support)"
   ]
  },
  {
   "cell_type": "code",
   "execution_count": 112,
   "metadata": {},
   "outputs": [
    {
     "data": {
      "image/png": "[encoded data removed]",
      "text/plain": [
       "<matplotlib.figure.Figure at 0x108d412e8>"
      ]
     },
     "metadata": {},
     "output_type": "display_data"
    }
   ],
   "source": [
    "plot_approx_dir_samples(alpha=0.1, f_types=10, nb_samples=5, approx_type='kl')"
   ]
  },
  {
   "cell_type": "code",
   "execution_count": 113,
   "metadata": {},
   "outputs": [
    {
     "data": {
      "image/png": "[encoded data removed]",
      "text/plain": [
       "<matplotlib.figure.Figure at 0x1086c30f0>"
      ]
     },
     "metadata": {},
     "output_type": "display_data"
    }
   ],
   "source": [
    "plot_approx_dir_samples(alpha=0.1, f_types=10, nb_samples=5, approx_type='laplace')"
   ]
  },
  {
   "cell_type": "code",
   "execution_count": 114,
   "metadata": {},
   "outputs": [
    {
     "data": {
      "image/png": "[encoded data removed]",
      "text/plain": [
       "<matplotlib.figure.Figure at 0x106654278>"
      ]
     },
     "metadata": {},
     "output_type": "display_data"
    }
   ],
   "source": [
    "plot_dirichlet_samples(alpha=0.1, f_types=10, nb_samples=5)"
   ]
  },
  {
   "cell_type": "code",
   "execution_count": 130,
   "metadata": {
    "collapsed": true
   },
   "outputs": [],
   "source": [
    "%matplotlib inline\n",
    "import numpy as np\n",
    "import matplotlib.pyplot as plt\n",
    "import matplotlib.tri as tri\n",
    "\n",
    "corners = np.array([[0, 0], [1, 0], [0.5, 0.75**0.5]])\n",
    "triangle = tri.Triangulation(corners[:, 0], corners[:, 1])\n",
    "\n",
    "def draw_pdf_contours(dist, nlevels=200, subdiv=8, **kwargs):\n",
    "    import math\n",
    "    \n",
    "    refiner = tri.UniformTriRefiner(triangle)\n",
    "    trimesh = refiner.refine_triangulation(subdiv=subdiv)\n",
    "    pvals = [dist.pdf(xy2bc(xy)) for xy in zip(trimesh.x, trimesh.y)]\n",
    "\n",
    "    plt.tricontourf(trimesh, pvals, nlevels, **kwargs)\n",
    "    plt.axis('equal')\n",
    "    plt.xlim(0, 1)\n",
    "    plt.ylim(0, 0.75**0.5)\n",
    "    plt.axis('off')\n",
    "    \n",
    "midpoints = [(corners[(i + 1) % 3] + corners[(i + 2) % 3]) / 2.0 \\\n",
    "             for i in range(3)]\n",
    "\n",
    "def xy2bc(xy, tol=1.e-3):\n",
    "    '''Converts 2D Cartesian coordinates to barycentric.'''\n",
    "    s = [(corners[i] - midpoints[i]).dot(xy - midpoints[i]) / 0.75 \\\n",
    "         for i in range(3)]\n",
    "    return np.clip(s, tol, 1.0 - tol)"
   ]
  },
  {
   "cell_type": "code",
   "execution_count": 141,
   "metadata": {
    "collapsed": true
   },
   "outputs": [],
   "source": [
    "class Dirichlet(object):\n",
    "    def __init__(self, alpha):\n",
    "        from math import gamma\n",
    "        self._alpha = np.array(alpha)\n",
    "        self._coef = gamma(np.sum(self._alpha)) / \\\n",
    "                     np.multiply.reduce([gamma(a) for a in self._alpha])\n",
    "    def pdf(self, x):\n",
    "        '''Returns pdf value for `x`.'''\n",
    "        return self._coef * np.multiply.reduce([xx ** (aa - 1)\n",
    "                                         for (xx, aa)in zip(x, self._alpha)])\n",
    "    "
   ]
  },
  {
   "cell_type": "code",
   "execution_count": 138,
   "metadata": {},
   "outputs": [
    {
     "data": {
      "image/png": "[encoded data removed]",
      "text/plain": [
       "<matplotlib.figure.Figure at 0x10888b2b0>"
      ]
     },
     "metadata": {},
     "output_type": "display_data"
    }
   ],
   "source": [
    "draw_pdf_contours(Dirichlet([1, 1, 1]))"
   ]
  },
  {
   "cell_type": "code",
   "execution_count": 139,
   "metadata": {},
   "outputs": [
    {
     "data": {
      "image/png": "[encoded data removed]",
      "text/plain": [
       "<matplotlib.figure.Figure at 0x107026860>"
      ]
     },
     "metadata": {},
     "output_type": "display_data"
    }
   ],
   "source": [
    "draw_pdf_contours(Dirichlet([0.999, 0.999, 0.999]))"
   ]
  },
  {
   "cell_type": "code",
   "execution_count": 140,
   "metadata": {},
   "outputs": [
    {
     "data": {
      "image/png": "[encoded data removed]",
      "text/plain": [
       "<matplotlib.figure.Figure at 0x108a9e048>"
      ]
     },
     "metadata": {},
     "output_type": "display_data"
    }
   ],
   "source": [
    "draw_pdf_contours(Dirichlet([0.1, 0.1, 0.1]))"
   ]
  },
  {
   "cell_type": "code",
   "execution_count": 137,
   "metadata": {},
   "outputs": [
    {
     "data": {
      "image/png": "[encoded data removed]",
      "text/plain": [
       "<matplotlib.figure.Figure at 0x108a9eb38>"
      ]
     },
     "metadata": {},
     "output_type": "display_data"
    }
   ],
   "source": [
    "draw_pdf_contours(Dirichlet([5, 5, 5]))"
   ]
  },
  {
   "cell_type": "code",
   "execution_count": null,
   "metadata": {
    "collapsed": true
   },
   "outputs": [],
   "source": []
  }
 ],
 "metadata": {
  "kernelspec": {
   "display_name": "Python 3",
   "language": "python",
   "name": "python3"
  },
  "language_info": {
   "codemirror_mode": {
    "name": "ipython",
    "version": 3
   },
   "file_extension": ".py",
   "mimetype": "text/x-python",
   "name": "python",
   "nbconvert_exporter": "python",
   "pygments_lexer": "ipython3",
   "version": "3.6.1"
  }
 },
 "nbformat": 4,
 "nbformat_minor": 2
}
